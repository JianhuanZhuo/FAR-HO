{
 "cells": [
  {
   "cell_type": "code",
   "execution_count": 1,
   "metadata": {
    "pycharm": {
     "is_executing": false
    }
   },
   "outputs": [
    {
     "name": "stdout",
     "output_type": "stream",
     "text": [
      "Warning: ExperimentManager package not loaded (https://github.com/lucfra/ExperimentManager)\n",
      "No module named 'experiment_manager'\n",
      "WARNING:tensorflow:From D:\\ProgramData\\Anaconda3\\lib\\site-packages\\far_ho\\utils.py:54: The name tf.GraphKeys is deprecated. Please use tf.compat.v1.GraphKeys instead.\n",
      "\n",
      "ordered-set package not found..\n",
      "WARNING:tensorflow:From D:\\ProgramData\\Anaconda3\\lib\\site-packages\\far_ho\\optimizer.py:129: The name tf.train.Optimizer is deprecated. Please use tf.compat.v1.train.Optimizer instead.\n",
      "\n",
      "WARNING:tensorflow:From D:\\ProgramData\\Anaconda3\\lib\\site-packages\\far_ho\\optimizer.py:167: The name tf.train.GradientDescentOptimizer is deprecated. Please use tf.compat.v1.train.GradientDescentOptimizer instead.\n",
      "\n",
      "WARNING:tensorflow:From D:\\ProgramData\\Anaconda3\\lib\\site-packages\\far_ho\\optimizer.py:275: The name tf.train.MomentumOptimizer is deprecated. Please use tf.compat.v1.train.MomentumOptimizer instead.\n",
      "\n",
      "WARNING:tensorflow:From D:\\ProgramData\\Anaconda3\\lib\\site-packages\\far_ho\\optimizer.py:313: The name tf.train.AdamOptimizer is deprecated. Please use tf.compat.v1.train.AdamOptimizer instead.\n",
      "\n",
      "WARNING:tensorflow:From D:\\ProgramData\\Anaconda3\\lib\\site-packages\\far_ho\\examples\\models.py:101: The name tf.get_variable is deprecated. Please use tf.compat.v1.get_variable instead.\n",
      "\n"
     ]
    },
    {
     "name": "stderr",
     "output_type": "stream",
     "text": [
      "NOT ALL DATASETS AVAILABLE\n",
      "PLEASE INSTALL experiment_manager package\n",
      "get it at https://github.com/lucfra/ExperimentManager\n",
      "models.py; WARNING: some functions may not work\n",
      "No module named 'experiment_manager'\n"
     ]
    }
   ],
   "source": [
    "import warnings\n",
    "warnings.filterwarnings(\"ignore\")\n",
    "import os\n",
    "import numpy as np\n",
    "import tensorflow as tf\n",
    "import tensorflow.contrib.layers as layers\n",
    "import far_ho as far\n",
    "import far_ho.examples as far_ex\n",
    "\n",
    "tf.logging.set_verbosity(tf.logging.ERROR)"
   ]
  },
  {
   "cell_type": "code",
   "execution_count": 2,
   "metadata": {
    "pycharm": {
     "is_executing": false
    }
   },
   "outputs": [],
   "source": [
    "import matplotlib.pyplot as plt\n",
    "%matplotlib inline\n",
    "from IPython.display import clear_output"
   ]
  },
  {
   "cell_type": "code",
   "execution_count": 3,
   "metadata": {
    "pycharm": {
     "is_executing": false
    }
   },
   "outputs": [],
   "source": [
    "try:\n",
    "    sess.close()\n",
    "except: pass\n",
    "rnd = np.random.RandomState(1)\n",
    "tf.reset_default_graph()\n",
    "sess = tf.InteractiveSession()"
   ]
  },
  {
   "cell_type": "markdown",
   "metadata": {},
   "source": [
    "# Far-HO Demo, AutoML 2018, ICML workshop\n",
    "### Far-HO: a Bilevel Programming Package for Hyperparameter Optimization and meta-learning \n",
    "\n",
    "[Link to the workshop paper](https://docs.google.com/viewer?a=v&pid=sites&srcid=ZGVmYXVsdGRvbWFpbnxhdXRvbWwyMDE4aWNtbHxneDoyN2I3YmIxNTkyMjMwYjRm)"
   ]
  },
  {
   "cell_type": "markdown",
   "metadata": {},
   "source": [
    "### Data "
   ]
  },
  {
   "cell_type": "code",
   "execution_count": 4,
   "metadata": {
    "pycharm": {
     "is_executing": false
    }
   },
   "outputs": [],
   "source": [
    "def to_one_hot_enc(seq, dimension=None):\n",
    "    da_max = dimension or int(np.max(seq)) + 1\n",
    "    _tmp = np.zeros((len(seq), da_max))\n",
    "    _tmp[range(len(_tmp)), np.array(seq, dtype=int)] = 1\n",
    "    return _tmp\n",
    "\n",
    "def flip(targets, p):\n",
    "    tgs = np.argmax(targets, axis=1)\n",
    "    nfl = int(len(targets)*p)\n",
    "    tgs[:nfl] = (tgs[:nfl] + rnd.randint(1, 9, size=(nfl,))) % 10\n",
    "    return to_one_hot_enc(tgs)\n",
    "\n",
    "def get_data(p, small=True):\n",
    "    # load a small portion of mnist data\n",
    "    if small: part = (.02, .002,)\n",
    "    else: part = (.5, .1)\n",
    "    datasets = far_ex.mnist(data_root_folder=os.path.join(os.getcwd(), 'MNIST_DATA'), partitions=part)\n",
    "    if p: \n",
    "        datasets.train._target = flip(datasets.train.target, p)\n",
    "    return datasets"
   ]
  },
  {
   "cell_type": "markdown",
   "metadata": {},
   "source": [
    "### Models"
   ]
  },
  {
   "cell_type": "code",
   "execution_count": 5,
   "metadata": {
    "pycharm": {
     "is_executing": false
    }
   },
   "outputs": [],
   "source": [
    "def g_logits(x,y, name='model'):\n",
    "    with tf.variable_scope(name):\n",
    "        h1 = layers.fully_connected(x, 300)\n",
    "        logits = layers.fully_connected(h1, int(y.shape[1]))\n",
    "    return logits\n",
    "\n",
    "def g_logits_d(x,y, name='model'):\n",
    "    return far_ex.fixed_init_ffnn(x, dims=(x.shape[1], 400, 400, 400, y.shape[1]), name=name)"
   ]
  },
  {
   "cell_type": "code",
   "execution_count": null,
   "metadata": {
    "pycharm": {
     "is_executing": false
    }
   },
   "outputs": [],
   "source": []
  },
  {
   "cell_type": "markdown",
   "metadata": {},
   "source": [
    "### Find automatically the weights of each training example  (DATA HYPER-CLEANER)\n",
    "NOISE ON LABELS of the examples  "
   ]
  },
  {
   "cell_type": "code",
   "execution_count": 6,
   "metadata": {
    "pycharm": {
     "is_executing": false
    }
   },
   "outputs": [
    {
     "name": "stdout",
     "output_type": "stream",
     "text": [
      "Extracting C:\\Users\\Igor_\\PycharmProjects\\FAR-HO\\far_ho\\examples\\autoMLDemos\\MNIST_DATA\\mnist\\train-images-idx3-ubyte.gz\n",
      "Extracting C:\\Users\\Igor_\\PycharmProjects\\FAR-HO\\far_ho\\examples\\autoMLDemos\\MNIST_DATA\\mnist\\train-labels-idx1-ubyte.gz\n",
      "Extracting C:\\Users\\Igor_\\PycharmProjects\\FAR-HO\\far_ho\\examples\\autoMLDemos\\MNIST_DATA\\mnist\\t10k-images-idx3-ubyte.gz\n",
      "Extracting C:\\Users\\Igor_\\PycharmProjects\\FAR-HO\\far_ho\\examples\\autoMLDemos\\MNIST_DATA\\mnist\\t10k-labels-idx1-ubyte.gz\n",
      "datasets.redivide_data:, computed partitions numbers - [0, 1400, 1540, 70000] len all 70000 DONE\n"
     ]
    }
   ],
   "source": [
    "x = tf.placeholder(tf.float32, shape=(None, 28**2), name='x')\n",
    "y = tf.placeholder(tf.float32, shape=(None, 10), name='y')\n",
    "logits = g_logits(x, y)\n",
    "P = 1/3\n",
    "train_set, validation_set, test_set = get_data(p=P)"
   ]
  },
  {
   "cell_type": "code",
   "execution_count": 7,
   "metadata": {
    "pycharm": {
     "is_executing": false
    }
   },
   "outputs": [],
   "source": [
    "lambdas = far.get_hyperparameter('lambdas', tf.zeros(train_set.num_examples))\n",
    "lr = far.get_hyperparameter('lr', initializer=0.02, constraint=lambda t: tf.maximum(tf.minimum(t, 1.), 1.e-5))\n",
    "\n",
    "ce = tf.nn.softmax_cross_entropy_with_logits(labels=y, logits=logits)\n",
    "example_weights = tf.sigmoid(lambdas)\n",
    "L = tf.reduce_mean(example_weights*ce)\n",
    "E = tf.reduce_mean(ce)"
   ]
  },
  {
   "cell_type": "code",
   "execution_count": 8,
   "metadata": {
    "pycharm": {
     "is_executing": false
    }
   },
   "outputs": [],
   "source": [
    "inner_optimizer = far.GradientDescentOptimizer(lr)\n",
    "outer_optimizer = tf.train.AdamOptimizer(0.02)\n",
    "hyper_step = far.HyperOptimizer().minimize(E, outer_optimizer, L, inner_optimizer)\n",
    "\n",
    "T = 50  # Number of inner iterations\n",
    "train_set_supplier = train_set.create_supplier(x, y)\n",
    "validation_set_supplier = validation_set.create_supplier(x, y)"
   ]
  },
  {
   "cell_type": "code",
   "execution_count": 9,
   "metadata": {
    "pycharm": {
     "is_executing": false
    }
   },
   "outputs": [],
   "source": [
    "tf.global_variables_initializer().run()"
   ]
  },
  {
   "cell_type": "code",
   "execution_count": 10,
   "metadata": {
    "pycharm": {
     "is_executing": false
    }
   },
   "outputs": [],
   "source": [
    "def show_img(ax, data, label, other_info=\"\"):\n",
    "    ax.imshow(np.reshape(data, (28, 28)), cmap='gray')\n",
    "    ax.grid()\n",
    "    ax.set_title('label {} {:.3}'.format(np.argmax(label), other_info))\n",
    "    ax.tick_params(axis='both', which='both', bottom=False, top=False, labelbottom=False)\n",
    "\n",
    "def make_plots1():\n",
    "    clear_output()\n",
    "    print('inner:', L.eval(train_set_supplier()))\n",
    "    print('outer:', E.eval(validation_set_supplier()))\n",
    "    print('learning rate', lr.eval())\n",
    "    print('norm of examples weights', tf.norm(lambdas).eval())\n",
    "    print('-'*50)\n",
    "\n",
    "    fig, ax = plt.subplots(ncols=5, figsize=(16, 3))\n",
    "\n",
    "    img_ax = 0\n",
    "    for img_idx in range(4):\n",
    "        _id = rnd.randint(0, 1400)\n",
    "        show_img(ax[img_ax], train_set.data[_id], train_set.target[_id], example_weights.eval()[_id])\n",
    "        img_ax+=1\n",
    "#         plt.show()\n",
    "    evv = example_weights.eval()\n",
    "    \n",
    "    plt.sca(ax[-1])\n",
    "    xx = [0, 1]\n",
    "    flipped =  evv[:int(P*len(evv))]\n",
    "    clean = evv[int(P*len(evv)):]\n",
    "    ax[-1].set_title('Weights of examples')\n",
    "    plt.xticks([0, 1], ['Flipped', 'Clean'])\n",
    "    ax[-1].errorbar([0, 1], [np.mean(flipped), np.mean(clean)], yerr=[np.std(flipped), np.std(clean)], fmt='o')\n",
    "    ax[-1].set_xlim((-0.5, 1.5))\n",
    "    ax[-1].yaxis.tick_right()\n",
    "\n",
    "\n",
    "    plt.show()\n",
    "    "
   ]
  },
  {
   "cell_type": "code",
   "execution_count": 11,
   "metadata": {
    "pycharm": {
     "is_executing": false
    }
   },
   "outputs": [
    {
     "data": {
      "image/png": "[encoded data removed]",
      "text/plain": [
       "<Figure size 1080x216 with 1 Axes>"
      ]
     },
     "metadata": {
      "needs_background": "light"
     },
     "output_type": "display_data"
    }
   ],
   "source": [
    "plt.figure(figsize=(15, 3))\n",
    "plt.bar(list(range(train_set.num_examples)), example_weights.eval(), width=1.);\n",
    "plt.xlim(0,1400)\n",
    "plt.title('Weight of the examples at the beginning');"
   ]
  },
  {
   "cell_type": "code",
   "execution_count": 12,
   "metadata": {
    "pycharm": {
     "is_executing": true
    }
   },
   "outputs": [
    {
     "name": "stdout",
     "output_type": "stream",
     "text": [
      "inner: 1.147721\n",
      "outer: 2.1751025\n",
      "learning rate 0.1956017\n",
      "norm of examples weights 4.273779\n",
      "--------------------------------------------------\n"
     ]
    },
    {
     "data": {
      "image/png": "[encoded data removed]",
      "text/plain": [
       "<Figure size 1152x216 with 5 Axes>"
      ]
     },
     "metadata": {
      "needs_background": "light"
     },
     "output_type": "display_data"
    }
   ],
   "source": [
    "# examples \n",
    "n_hyper_iterations = 10\n",
    "for hyt in range(n_hyper_iterations):\n",
    "    hyper_step(3,\n",
    "               inner_objective_feed_dicts=train_set_supplier,\n",
    "               outer_objective_feed_dicts=validation_set_supplier)\n",
    "    if hyt % 2 ==0:\n",
    "        make_plots1()"
   ]
  },
  {
   "cell_type": "code",
   "execution_count": 12,
   "metadata": {
    "pycharm": {
     "is_executing": true
    }
   },
   "outputs": [
    {
     "data": {
      "text/plain": [
       "(0, 1400)"
      ]
     },
     "execution_count": 12,
     "metadata": {},
     "output_type": "execute_result"
    },
    {
     "data": {
      "image/png": "[encoded data removed]",
      "text/plain": [
       "<Figure size 1080x216 with 1 Axes>"
      ]
     },
     "metadata": {
      "needs_background": "light"
     },
     "output_type": "display_data"
    }
   ],
   "source": [
    "plt.figure(figsize=(15, 3))\n",
    "plt.bar(list(range(train_set.num_examples)), example_weights.eval(), width=1.);\n",
    "plt.xlim(0,1400)\n"
   ]
  },
  {
   "cell_type": "code",
   "execution_count": null,
   "metadata": {
    "pycharm": {
     "is_executing": true
    }
   },
   "outputs": [],
   "source": [
    "\n",
    "\n",
    "\n",
    "\n",
    "\n",
    "\n",
    "\n",
    "\n",
    "\n",
    "\n",
    "\n",
    "\n",
    "\n",
    "\n"
   ]
  },
  {
   "cell_type": "markdown",
   "metadata": {},
   "source": [
    "### Optimize few hyperparameters  with `ForwardHG`\n",
    "\n",
    "\n",
    "\n",
    "\n",
    "\n",
    "\n",
    "\n",
    "\n",
    "\n",
    "\n",
    "\n",
    "\n",
    "\n",
    "\n",
    "\n",
    "\n",
    "\n",
    "\n",
    "\n",
    "\n",
    "\n",
    "\n",
    "\n",
    "\n",
    "\n",
    "\n",
    "\n",
    "\n",
    "\n",
    "\n",
    "\n",
    "\n"
   ]
  },
  {
   "cell_type": "code",
   "execution_count": 13,
   "metadata": {},
   "outputs": [],
   "source": [
    "try:\n",
    "    sess.close()\n",
    "except: pass\n",
    "tf.reset_default_graph()\n",
    "sess = tf.InteractiveSession()\n"
   ]
  },
  {
   "cell_type": "code",
   "execution_count": 15,
   "metadata": {},
   "outputs": [
    {
     "name": "stdout",
     "output_type": "stream",
     "text": [
      "Extracting C:\\Users\\Igor_\\PycharmProjects\\FAR-HO\\far_ho\\examples\\autoMLDemos\\MNIST_DATA\\mnist\\train-images-idx3-ubyte.gz\n",
      "Extracting C:\\Users\\Igor_\\PycharmProjects\\FAR-HO\\far_ho\\examples\\autoMLDemos\\MNIST_DATA\\mnist\\train-labels-idx1-ubyte.gz\n",
      "Extracting C:\\Users\\Igor_\\PycharmProjects\\FAR-HO\\far_ho\\examples\\autoMLDemos\\MNIST_DATA\\mnist\\t10k-images-idx3-ubyte.gz\n",
      "Extracting C:\\Users\\Igor_\\PycharmProjects\\FAR-HO\\far_ho\\examples\\autoMLDemos\\MNIST_DATA\\mnist\\t10k-labels-idx1-ubyte.gz\n",
      "datasets.redivide_data:, computed partitions numbers - [0, 35000, 42000, 70000] len all 70000 DONE\n"
     ]
    }
   ],
   "source": [
    "x = tf.placeholder(tf.float32, shape=(None, 28**2), name='x')\n",
    "y = tf.placeholder(tf.float32, shape=(None, 10), name='y')\n",
    "logits = g_logits_d(x, y, name='mod3')\n",
    "P = None\n",
    "train_set, validation_set, test_set = get_data(p=P, small=False)"
   ]
  },
  {
   "cell_type": "code",
   "execution_count": 16,
   "metadata": {},
   "outputs": [],
   "source": [
    "# lambdas = far.get_hyperparameter('lambdas', tf.zeros(train_set.num_examples))\n",
    "lr = far.get_hyperparameter('lr', initializer=0.02, constraint=lambda t: tf.maximum(tf.minimum(t, .1), 1.e-5))\n",
    "mu = far.get_hyperparameter('mu', initializer=0.9, constraint=lambda t: tf.maximum(tf.minimum(t, .99), 1.e-5))\n",
    "rho = far.get_hyperparameter('rho', initializer=0.00001, constraint=lambda t: tf.maximum(tf.minimum(t, 0.01), 0.))\n",
    "\n",
    "\n",
    "ce = tf.nn.softmax_cross_entropy_with_logits(labels=y, logits=logits)\n",
    "L = tf.reduce_mean(ce) + rho*tf.add_n([tf.reduce_sum(w**2) for w in tf.trainable_variables()])\n",
    "E = tf.reduce_mean(ce)"
   ]
  },
  {
   "cell_type": "code",
   "execution_count": 17,
   "metadata": {},
   "outputs": [],
   "source": [
    "inner_optimizer = far.MomentumOptimizer(lr, mu)\n",
    "outer_optimizer = tf.train.AdamOptimizer(1.e-4)\n",
    "hyper_step = far.HyperOptimizer(far.ForwardHG()).minimize(E, outer_optimizer, L, inner_optimizer)\n",
    "\n",
    "train_set_supplier = train_set.create_supplier(x, y, batch_size=256)  # stochastic GD\n",
    "validation_set_supplier = validation_set.create_supplier(x, y)"
   ]
  },
  {
   "cell_type": "code",
   "execution_count": 18,
   "metadata": {},
   "outputs": [],
   "source": [
    "def make_plots2(his):\n",
    "    clear_output()\n",
    "    print('inner:', L.eval(train_set_supplier()))\n",
    "    print('outer:', E.eval(validation_set_supplier()))\n",
    "    print('learning rate', lr.eval(), 'momentum', mu.eval(), 'l2 coefficient', rho.eval())\n",
    "    print('-'*50)\n",
    "    \n",
    "    fig, ax = plt.subplots(ncols=4, figsize=(15, 3))\n",
    "    ax[0].set_title('Learning rate')\n",
    "    ax[0].plot([e[0] for e in his])\n",
    "    \n",
    "    ax[1].set_title('Momentum factor')\n",
    "    ax[1].plot([e[1] for e in his]) \n",
    "    \n",
    "    ax[2].set_title('L2 regulariz.')\n",
    "    ax[2].plot([e[2] for e in his])\n",
    "    \n",
    "    ax[3].set_title('Tr. and val. errors')\n",
    "    ax[3].plot([e[3] for e in his])\n",
    "    ax[3].plot([e[4] for e in his])  \n",
    "    \n",
    "    \n",
    "    plt.show()"
   ]
  },
  {
   "cell_type": "code",
   "execution_count": 19,
   "metadata": {},
   "outputs": [],
   "source": [
    "T = 500\n",
    "his_params = []\n",
    "n_hyper_iterations = 10"
   ]
  },
  {
   "cell_type": "code",
   "execution_count": 20,
   "metadata": {},
   "outputs": [],
   "source": [
    "tf.global_variables_initializer().run()"
   ]
  },
  {
   "cell_type": "code",
   "execution_count": null,
   "metadata": {},
   "outputs": [],
   "source": [
    "n_hyper_iterations = 10\n",
    "for hyt in range(n_hyper_iterations):\n",
    "    hyper_step(T,\n",
    "               inner_objective_feed_dicts=train_set_supplier,\n",
    "               outer_objective_feed_dicts=validation_set_supplier)\n",
    "    res = sess.run(far.hyperparameters()) + [L.eval(train_set_supplier()), \n",
    "                                             E.eval(validation_set_supplier())]\n",
    "    his_params.append(res)\n",
    "    make_plots2(his_params)"
   ]
  },
  {
   "cell_type": "markdown",
   "metadata": {},
   "source": [
    "### Too slow? Update the hyperparameters online!\n",
    "### [RTHO](http://proceedings.mlr.press/v70/franceschi17a): REAL-TIME HYPERPARAMETER OPTIMIZATION "
   ]
  },
  {
   "cell_type": "code",
   "execution_count": 21,
   "metadata": {},
   "outputs": [],
   "source": [
    "hyper_batch_size = 100  # Number of inner iterations\n",
    "T = 5000\n",
    "his_params = []\n"
   ]
  },
  {
   "cell_type": "code",
   "execution_count": 22,
   "metadata": {},
   "outputs": [],
   "source": [
    "tf.global_variables_initializer().run()"
   ]
  },
  {
   "cell_type": "code",
   "execution_count": null,
   "metadata": {},
   "outputs": [],
   "source": [
    "for hyt in range(T//hyper_batch_size):\n",
    "    hyper_step(hyper_batch_size,\n",
    "               inner_objective_feed_dicts=train_set_supplier,\n",
    "               outer_objective_feed_dicts=validation_set_supplier, online=True)\n",
    "    res = sess.run(far.hyperparameters()) + [L.eval(train_set_supplier()), \n",
    "                                             E.eval(validation_set_supplier())]\n",
    "    his_params.append(res)\n",
    "    if hyt % 2 ==0:\n",
    "        make_plots2(his_params)"
   ]
  },
  {
   "cell_type": "code",
   "execution_count": null,
   "metadata": {},
   "outputs": [],
   "source": [
    "\n",
    "\n",
    "\n",
    "\n",
    "\n",
    "\n",
    "\n",
    "\n",
    "\n",
    "\n",
    "\n",
    "\n",
    "\n",
    "\n",
    "\n",
    "\n"
   ]
  }
 ],
 "metadata": {
  "kernelspec": {
   "display_name": "Python 3",
   "language": "python",
   "name": "python3"
  },
  "language_info": {
   "codemirror_mode": {
    "name": "ipython",
    "version": 3
   },
   "file_extension": ".py",
   "mimetype": "text/x-python",
   "name": "python",
   "nbconvert_exporter": "python",
   "pygments_lexer": "ipython3",
   "version": "3.7.3"
  },
  "pycharm": {
   "stem_cell": {
    "cell_type": "raw",
    "metadata": {
     "collapsed": false
    },
    "source": []
   }
  }
 },
 "nbformat": 4,
 "nbformat_minor": 2
}
